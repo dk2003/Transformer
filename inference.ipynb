{
 "cells": [
  {
   "cell_type": "code",
   "execution_count": 1,
   "metadata": {},
   "outputs": [
    {
     "name": "stderr",
     "output_type": "stream",
     "text": [
      "c:\\Users\\18135\\anaconda3\\envs\\attention\\lib\\site-packages\\tqdm\\auto.py:21: TqdmWarning: IProgress not found. Please update jupyter and ipywidgets. See https://ipywidgets.readthedocs.io/en/stable/user_install.html\n",
      "  from .autonotebook import tqdm as notebook_tqdm\n"
     ]
    }
   ],
   "source": [
    "from pathlib import Path\n",
    "import torch\n",
    "import torch.nn as nn\n",
    "from config.config import get_config,latest_weights_file_path\n",
    "from train import get_model, get_dataset, run_validation\n",
    "from translate import translate"
   ]
  },
  {
   "cell_type": "code",
   "execution_count": 2,
   "metadata": {},
   "outputs": [
    {
     "name": "stdout",
     "output_type": "stream",
     "text": [
      "Using device: cuda\n",
      "Max length of source sentence: 309 Max length of target sentence: 274\n",
      "😜 初始化权重完成！\n",
      "❤️ 预训练权重加载成功！\n"
     ]
    }
   ],
   "source": [
    "# Define the device\n",
    "device = torch.device(\"cuda\" if torch.cuda.is_available() else \"cpu\")\n",
    "print(\"Using device:\", device)\n",
    "config = get_config()\n",
    "train_dataloader, val_dataloader, tokenizer_src, tokenizer_tgt = get_dataset(config)\n",
    "model = get_model(config, tokenizer_src.get_vocab_size(), tokenizer_tgt.get_vocab_size()).to(device)\n",
    "\n",
    "# Load the pretrained weights\n",
    "model_filename = latest_weights_file_path(config)\n",
    "state = torch.load(model_filename)\n",
    "model.load_state_dict(state['model_state_dict'])\n",
    "print('❤️ 预训练权重加载成功！')"
   ]
  },
  {
   "cell_type": "code",
   "execution_count": 3,
   "metadata": {},
   "outputs": [
    {
     "name": "stdout",
     "output_type": "stream",
     "text": [
      "________________________________________________________________________________\n",
      "SOURCE: Among the brides that came to her mind was her dear Anna, about whose impending divorce she had heard a while ago.\n",
      "TARGET: Fra tutte le spose che le tornarono in mente, ricordò anche Anna, a lei cara, e a proposito della quale, da non molto, aveva sentito parlare di divorzio.\n",
      "PREDICTED: Fra tutte le spose che le tornarono in mente , ricordò anche Anna , a lei cara , e a proposito della quale , da non molto , aveva sentito parlare di divorzio .\n",
      "________________________________________________________________________________\n",
      "SOURCE: 'There now! Had I only known that you don't despise me...' said Anna, 'you should all have come to us.\n",
      "TARGET: — Ecco, se avessi saputo — disse Anna — che non mi disprezzi... Sareste venuti tutti da noi.\n",
      "PREDICTED: — Ecco , se avessi saputo — disse Anna — che non mi disprezzi ... Sareste venuti tutti da noi .\n",
      "________________________________________________________________________________\n",
      "SOURCE: CHAPTER XXVIII\n",
      "TARGET: XXVIII\n",
      "PREDICTED: XXVIII\n",
      "________________________________________________________________________________\n",
      "SOURCE: Can't they atone for a momentary – a momentary...'\n",
      "TARGET: Ricorda... nove anni di vita non possono forse far perdonare un minuto, un minuto...\n",
      "PREDICTED: ... nove anni di vita non possono forse far perdonare un minuto , un minuto ...\n",
      "________________________________________________________________________________\n",
      "SOURCE: One thing is certain: this night has decided my fate.\n",
      "TARGET: Una cosa è certa, che questa notte ho deciso il mio destino.\n",
      "PREDICTED: Una cosa è certa , che questa notte ho deciso il mio destino .\n",
      "________________________________________________________________________________\n",
      "SOURCE: 'How horrid you men are!\n",
      "TARGET: — Come siete disgustosi, voi uomini!\n",
      "PREDICTED: — Come siete disgustosi , voi uomini !\n",
      "________________________________________________________________________________\n",
      "SOURCE: This parlour looked gloomy: a neglected handful of fire burnt low in the grate; and, leaning over it, with his head supported against the high, old-fashioned mantelpiece, appeared the blind tenant of the room.\n",
      "TARGET: Il salotto era triste; il fuoco si spegneva nel caminetto antico, al quale il cieco teneva appoggiata la testa;\n",
      "PREDICTED: Il salotto era triste ; il fuoco si spegneva nel caminetto antico , al quale il cieco teneva appoggiata la testa ;\n",
      "________________________________________________________________________________\n",
      "SOURCE: A believer cannot be unhappy because he is not alone.\n",
      "TARGET: Il credente non può essere infelice, perché non è solo.\n",
      "PREDICTED: Il credente non può essere infelice , perché non è solo .\n",
      "________________________________________________________________________________\n",
      "SOURCE: We had taken up an oil-stove once, but \"never again.\"\n",
      "TARGET: Comprammo una volta un fornello a petrolio, ma non ci accadrà mai più.\n",
      "PREDICTED: Comprammo una volta un fornello a petrolio , ma non ci accadrà mai più .\n",
      "________________________________________________________________________________\n",
      "SOURCE: The din was on the causeway: a horse was coming; the windings of the lane yet hid it, but it approached.\n",
      "TARGET: Le sinuosità della strada me lo nascondevano ancora, ma sentivo che si avvicinava.\n",
      "PREDICTED: Le sinuosità della strada me lo nascondevano ancora , ma sentivo che si avvicinava .\n"
     ]
    }
   ],
   "source": [
    "run_validation(model, val_dataloader, tokenizer_src, tokenizer_tgt, config['seq_len'], device, lambda msg: print(msg), 0, None, num_examples=10)"
   ]
  },
  {
   "cell_type": "code",
   "execution_count": 4,
   "metadata": {},
   "outputs": [
    {
     "name": "stdout",
     "output_type": "stream",
     "text": [
      "Using device: cuda\n",
      "😜 初始化权重完成！\n",
      "    SOURCE: Why do I need to translate this?\n",
      " PREDICTED: Perchè  questa  forse ?  "
     ]
    }
   ],
   "source": [
    "t = translate(\"Why do I need to translate this?\")"
   ]
  },
  {
   "cell_type": "code",
   "execution_count": 5,
   "metadata": {},
   "outputs": [
    {
     "name": "stdout",
     "output_type": "stream",
     "text": [
      "Using device: cuda\n",
      "😜 初始化权重完成！\n",
      "        ID: 34\n",
      "    SOURCE: And I came out immediately, for I trembled at the idea of being dragged forth by the said Jack.\n",
      "    TARGET: Uscii subito, perché mi sgomentavo al pensiero di esser condotta fuori dal mio nascondiglio da John.\n",
      " PREDICTED: Uscii subito , per  per il pensiero mi  il pensiero di esser condotta John disse  "
     ]
    }
   ],
   "source": [
    "t = translate(34)"
   ]
  }
 ],
 "metadata": {
  "kernelspec": {
   "display_name": "attention",
   "language": "python",
   "name": "python3"
  },
  "language_info": {
   "codemirror_mode": {
    "name": "ipython",
    "version": 3
   },
   "file_extension": ".py",
   "mimetype": "text/x-python",
   "name": "python",
   "nbconvert_exporter": "python",
   "pygments_lexer": "ipython3",
   "version": "3.9.21"
  }
 },
 "nbformat": 4,
 "nbformat_minor": 2
}
